{
 "cells": [
  {
   "cell_type": "code",
   "execution_count": 163,
   "metadata": {
    "_cell_guid": "b1076dfc-b9ad-4769-8c92-a6c4dae69d19",
    "_uuid": "8f2839f25d086af736a60e9eeb907d3b93b6e0e5",
    "execution": {
     "iopub.execute_input": "2021-10-16T09:37:26.580247Z",
     "iopub.status.busy": "2021-10-16T09:37:26.579752Z",
     "iopub.status.idle": "2021-10-16T09:37:26.594709Z",
     "shell.execute_reply": "2021-10-16T09:37:26.593513Z",
     "shell.execute_reply.started": "2021-10-16T09:37:26.580199Z"
    }
   },
   "outputs": [],
   "source": [
    "# This Python 3 environment comes with many helpful analytics libraries installed\n",
    "# It is defined by the kaggle/python Docker image: https://github.com/kaggle/docker-python\n",
    "# For example, here's several helpful packages to load\n",
    "\n",
    "import numpy as np # linear algebra\n",
    "import pandas as pd # data processing, CSV file I/O (e.g. pd.read_csv)\n",
    "import matplotlib\n",
    "import matplotlib.pyplot as plt\n",
    "import seaborn as sns\n",
    "%matplotlib inline\n",
    "# Input data files are available in the read-only \"../input/\" directory\n",
    "# For example, running this (by clicking run or pressing Shift+Enter) will list all files under the input directory\n",
    "\n",
    "import os\n",
    "for dirname, _, filenames in os.walk('/kaggle/input'):\n",
    "    for filename in filenames:\n",
    "        print(os.path.join(dirname, filename))\n",
    "\n",
    "# You can write up to 20GB to the current directory (/kaggle/working/) that gets preserved as output when you create a version using \"Save & Run All\" \n",
    "# You can also write temporary files to /kaggle/temp/, but they won't be saved outside of the current session"
   ]
  },
  {
   "cell_type": "markdown",
   "metadata": {},
   "source": [
    "# Let's find what the Movie Gross Earnings correlates with"
   ]
  },
  {
   "cell_type": "markdown",
   "metadata": {},
   "source": [
    "### Read CSV"
   ]
  },
  {
   "cell_type": "code",
   "execution_count": 164,
   "metadata": {
    "execution": {
     "iopub.execute_input": "2021-10-16T09:37:26.596564Z",
     "iopub.status.busy": "2021-10-16T09:37:26.596206Z",
     "iopub.status.idle": "2021-10-16T09:37:26.641619Z",
     "shell.execute_reply": "2021-10-16T09:37:26.640953Z",
     "shell.execute_reply.started": "2021-10-16T09:37:26.596535Z"
    }
   },
   "outputs": [],
   "source": [
    "df = pd.read_csv('/kaggle/input/movies/movies.csv')"
   ]
  },
  {
   "cell_type": "markdown",
   "metadata": {},
   "source": [
    "### Lets look at the data"
   ]
  },
  {
   "cell_type": "code",
   "execution_count": 165,
   "metadata": {
    "execution": {
     "iopub.execute_input": "2021-10-16T09:37:26.643472Z",
     "iopub.status.busy": "2021-10-16T09:37:26.643117Z",
     "iopub.status.idle": "2021-10-16T09:37:26.664993Z",
     "shell.execute_reply": "2021-10-16T09:37:26.664308Z",
     "shell.execute_reply.started": "2021-10-16T09:37:26.643443Z"
    }
   },
   "outputs": [],
   "source": [
    "df.head()"
   ]
  },
  {
   "cell_type": "code",
   "execution_count": 166,
   "metadata": {
    "execution": {
     "iopub.execute_input": "2021-10-16T09:37:26.666541Z",
     "iopub.status.busy": "2021-10-16T09:37:26.666094Z",
     "iopub.status.idle": "2021-10-16T09:37:26.678705Z",
     "shell.execute_reply": "2021-10-16T09:37:26.677918Z",
     "shell.execute_reply.started": "2021-10-16T09:37:26.666491Z"
    }
   },
   "outputs": [],
   "source": [
    "df.columns"
   ]
  },
  {
   "cell_type": "code",
   "execution_count": 167,
   "metadata": {
    "execution": {
     "iopub.execute_input": "2021-10-16T09:37:26.680915Z",
     "iopub.status.busy": "2021-10-16T09:37:26.680653Z",
     "iopub.status.idle": "2021-10-16T09:37:26.691828Z",
     "shell.execute_reply": "2021-10-16T09:37:26.690752Z",
     "shell.execute_reply.started": "2021-10-16T09:37:26.680887Z"
    }
   },
   "outputs": [],
   "source": [
    "df.shape"
   ]
  },
  {
   "cell_type": "code",
   "execution_count": 168,
   "metadata": {
    "execution": {
     "iopub.execute_input": "2021-10-16T09:37:26.693955Z",
     "iopub.status.busy": "2021-10-16T09:37:26.693113Z",
     "iopub.status.idle": "2021-10-16T09:37:26.720413Z",
     "shell.execute_reply": "2021-10-16T09:37:26.719580Z",
     "shell.execute_reply.started": "2021-10-16T09:37:26.693895Z"
    }
   },
   "outputs": [],
   "source": [
    "print('Percentage of missing values:')\n",
    "for col in df.columns:\n",
    "    print(f'{col}: {np.mean(df[col].isnull()):.2f}%')"
   ]
  },
  {
   "cell_type": "code",
   "execution_count": 169,
   "metadata": {
    "execution": {
     "iopub.execute_input": "2021-10-16T09:37:26.722086Z",
     "iopub.status.busy": "2021-10-16T09:37:26.721849Z",
     "iopub.status.idle": "2021-10-16T09:37:26.729009Z",
     "shell.execute_reply": "2021-10-16T09:37:26.728415Z",
     "shell.execute_reply.started": "2021-10-16T09:37:26.722057Z"
    }
   },
   "outputs": [],
   "source": [
    "df.dtypes"
   ]
  },
  {
   "cell_type": "code",
   "execution_count": 170,
   "metadata": {
    "execution": {
     "iopub.execute_input": "2021-10-16T09:37:26.730464Z",
     "iopub.status.busy": "2021-10-16T09:37:26.730083Z",
     "iopub.status.idle": "2021-10-16T09:37:26.758850Z",
     "shell.execute_reply": "2021-10-16T09:37:26.757880Z",
     "shell.execute_reply.started": "2021-10-16T09:37:26.730435Z"
    }
   },
   "outputs": [],
   "source": [
    "df.head()"
   ]
  },
  {
   "cell_type": "markdown",
   "metadata": {},
   "source": [
    "### Top 5 by gross"
   ]
  },
  {
   "cell_type": "code",
   "execution_count": 171,
   "metadata": {
    "execution": {
     "iopub.execute_input": "2021-10-16T09:37:26.761236Z",
     "iopub.status.busy": "2021-10-16T09:37:26.760823Z",
     "iopub.status.idle": "2021-10-16T09:37:26.791294Z",
     "shell.execute_reply": "2021-10-16T09:37:26.790635Z",
     "shell.execute_reply.started": "2021-10-16T09:37:26.761095Z"
    }
   },
   "outputs": [],
   "source": [
    "df.sort_values(by='gross', ascending=False).head()"
   ]
  },
  {
   "cell_type": "markdown",
   "metadata": {},
   "source": [
    "### Scatter plot budget vs gross"
   ]
  },
  {
   "cell_type": "code",
   "execution_count": 172,
   "metadata": {
    "execution": {
     "iopub.execute_input": "2021-10-16T09:37:26.792981Z",
     "iopub.status.busy": "2021-10-16T09:37:26.792303Z",
     "iopub.status.idle": "2021-10-16T09:37:27.180104Z",
     "shell.execute_reply": "2021-10-16T09:37:27.179058Z",
     "shell.execute_reply.started": "2021-10-16T09:37:26.792944Z"
    }
   },
   "outputs": [],
   "source": [
    "plt.scatter(df.budget, df.gross)\n",
    "plt.title('Budget vs Gross Earnings')\n",
    "plt.xlabel('Gross Earnings')\n",
    "plt.ylabel('Budget Earnings')"
   ]
  },
  {
   "cell_type": "markdown",
   "metadata": {},
   "source": [
    "### Scatter plot using Seaborn"
   ]
  },
  {
   "cell_type": "code",
   "execution_count": 173,
   "metadata": {
    "execution": {
     "iopub.execute_input": "2021-10-16T09:37:27.183016Z",
     "iopub.status.busy": "2021-10-16T09:37:27.182760Z",
     "iopub.status.idle": "2021-10-16T09:37:27.837172Z",
     "shell.execute_reply": "2021-10-16T09:37:27.836162Z",
     "shell.execute_reply.started": "2021-10-16T09:37:27.182986Z"
    }
   },
   "outputs": [],
   "source": [
    "sns.regplot(x='budget', y='gross', data=df, line_kws={'color':'red'})"
   ]
  },
  {
   "cell_type": "markdown",
   "metadata": {},
   "source": [
    "### Correlation"
   ]
  },
  {
   "cell_type": "code",
   "execution_count": 174,
   "metadata": {
    "execution": {
     "iopub.execute_input": "2021-10-16T09:37:27.839583Z",
     "iopub.status.busy": "2021-10-16T09:37:27.838544Z",
     "iopub.status.idle": "2021-10-16T09:37:27.856338Z",
     "shell.execute_reply": "2021-10-16T09:37:27.855553Z",
     "shell.execute_reply.started": "2021-10-16T09:37:27.839535Z"
    }
   },
   "outputs": [],
   "source": [
    "df.corr()"
   ]
  },
  {
   "cell_type": "code",
   "execution_count": 175,
   "metadata": {
    "execution": {
     "iopub.execute_input": "2021-10-16T09:37:27.858072Z",
     "iopub.status.busy": "2021-10-16T09:37:27.857838Z",
     "iopub.status.idle": "2021-10-16T09:37:28.395112Z",
     "shell.execute_reply": "2021-10-16T09:37:28.394378Z",
     "shell.execute_reply.started": "2021-10-16T09:37:27.858045Z"
    }
   },
   "outputs": [],
   "source": [
    "plt.figure(figsize=(12,6))\n",
    "sns.heatmap(df.corr(), annot=True, fmt='.2f')\n",
    "plt.title('Correlation Matrix')\n",
    "plt.xlabel('Movies features')\n",
    "plt.ylabel('Movies features')"
   ]
  },
  {
   "cell_type": "markdown",
   "metadata": {},
   "source": [
    "### Convert categorical columns to integers"
   ]
  },
  {
   "cell_type": "code",
   "execution_count": 176,
   "metadata": {
    "execution": {
     "iopub.execute_input": "2021-10-16T09:37:28.396921Z",
     "iopub.status.busy": "2021-10-16T09:37:28.396550Z",
     "iopub.status.idle": "2021-10-16T09:37:28.400332Z",
     "shell.execute_reply": "2021-10-16T09:37:28.399782Z",
     "shell.execute_reply.started": "2021-10-16T09:37:28.396887Z"
    }
   },
   "outputs": [],
   "source": [
    "df_numerized = df"
   ]
  },
  {
   "cell_type": "code",
   "execution_count": 177,
   "metadata": {
    "execution": {
     "iopub.execute_input": "2021-10-16T09:37:28.402224Z",
     "iopub.status.busy": "2021-10-16T09:37:28.401784Z",
     "iopub.status.idle": "2021-10-16T09:37:28.479456Z",
     "shell.execute_reply": "2021-10-16T09:37:28.478548Z",
     "shell.execute_reply.started": "2021-10-16T09:37:28.402194Z"
    }
   },
   "outputs": [],
   "source": [
    "for col in df_numerized.columns:\n",
    "    if(df_numerized[col].dtype == 'object'):\n",
    "        df_numerized[col] = df_numerized[col].astype('category')\n",
    "        df_numerized[col] = df_numerized[col].cat.codes"
   ]
  },
  {
   "cell_type": "code",
   "execution_count": 178,
   "metadata": {
    "execution": {
     "iopub.execute_input": "2021-10-16T09:37:28.481054Z",
     "iopub.status.busy": "2021-10-16T09:37:28.480842Z",
     "iopub.status.idle": "2021-10-16T09:37:28.503836Z",
     "shell.execute_reply": "2021-10-16T09:37:28.502897Z",
     "shell.execute_reply.started": "2021-10-16T09:37:28.481029Z"
    }
   },
   "outputs": [],
   "source": [
    "df_numerized.head()"
   ]
  },
  {
   "cell_type": "code",
   "execution_count": 179,
   "metadata": {
    "execution": {
     "iopub.execute_input": "2021-10-16T09:37:28.506039Z",
     "iopub.status.busy": "2021-10-16T09:37:28.505413Z",
     "iopub.status.idle": "2021-10-16T09:37:30.101002Z",
     "shell.execute_reply": "2021-10-16T09:37:30.100408Z",
     "shell.execute_reply.started": "2021-10-16T09:37:28.506002Z"
    }
   },
   "outputs": [],
   "source": [
    "plt.figure(figsize=(14,7))\n",
    "sns.heatmap(df_numerized.corr(), annot=True, fmt='.2f')\n",
    "plt.title('Correlation Matrix')\n",
    "plt.xlabel('Movies features')\n",
    "plt.ylabel('Movies features')"
   ]
  },
  {
   "cell_type": "markdown",
   "metadata": {},
   "source": [
    "### High correlation for Gross Earnings (>0.5)"
   ]
  },
  {
   "cell_type": "code",
   "execution_count": 180,
   "metadata": {
    "execution": {
     "iopub.execute_input": "2021-10-16T09:37:30.102589Z",
     "iopub.status.busy": "2021-10-16T09:37:30.101945Z",
     "iopub.status.idle": "2021-10-16T09:37:30.117506Z",
     "shell.execute_reply": "2021-10-16T09:37:30.116486Z",
     "shell.execute_reply.started": "2021-10-16T09:37:30.102553Z"
    }
   },
   "outputs": [],
   "source": [
    "df_numerized_cors = df_numerized.corr()['gross']\n",
    "df_numerized_cors"
   ]
  },
  {
   "cell_type": "code",
   "execution_count": 181,
   "metadata": {
    "execution": {
     "iopub.execute_input": "2021-10-16T09:37:30.119326Z",
     "iopub.status.busy": "2021-10-16T09:37:30.118816Z",
     "iopub.status.idle": "2021-10-16T09:37:30.127087Z",
     "shell.execute_reply": "2021-10-16T09:37:30.126101Z",
     "shell.execute_reply.started": "2021-10-16T09:37:30.119294Z"
    }
   },
   "outputs": [],
   "source": [
    "df_numerized_cors[(df_numerized_cors>0.5) & (df_numerized_cors.index != 'gross')]\\\n",
    ".sort_values(ascending=False)"
   ]
  },
  {
   "cell_type": "markdown",
   "metadata": {},
   "source": [
    "# Recap: Max correlation between Gross and Budget (0.74) and Votes (63%)"
   ]
  }
 ],
 "metadata": {
  "kernelspec": {
   "display_name": "Python 3",
   "language": "python",
   "name": "python3"
  },
  "language_info": {
   "codemirror_mode": {
    "name": "ipython",
    "version": 3
   },
   "file_extension": ".py",
   "mimetype": "text/x-python",
   "name": "python",
   "nbconvert_exporter": "python",
   "pygments_lexer": "ipython3",
   "version": "3.7.3"
  }
 },
 "nbformat": 4,
 "nbformat_minor": 4
}
